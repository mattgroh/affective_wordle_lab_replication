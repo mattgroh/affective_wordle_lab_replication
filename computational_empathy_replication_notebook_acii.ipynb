{
 "cells": [
  {
   "cell_type": "code",
   "execution_count": 1,
   "metadata": {},
   "outputs": [
    {
     "name": "stderr",
     "output_type": "stream",
     "text": [
      "/Users/heart/anaconda3/lib/python3.8/site-packages/statsmodels/tsa/base/tsa_model.py:7: FutureWarning: pandas.Int64Index is deprecated and will be removed from pandas in a future version. Use pandas.Index with the appropriate dtype instead.\n",
      "  from pandas import (to_datetime, Int64Index, DatetimeIndex, Period,\n",
      "/Users/heart/anaconda3/lib/python3.8/site-packages/statsmodels/tsa/base/tsa_model.py:7: FutureWarning: pandas.Float64Index is deprecated and will be removed from pandas in a future version. Use pandas.Index with the appropriate dtype instead.\n",
      "  from pandas import (to_datetime, Int64Index, DatetimeIndex, Period,\n"
     ]
    }
   ],
   "source": [
    "import os\n",
    "import time\n",
    "import math\n",
    "import json\n",
    "import re \n",
    "import pandas as pd\n",
    "import statsmodels.api as sm\n",
    "import numpy as np\n",
    "import itertools as it\n",
    "import matplotlib.pyplot as plt\n",
    "from stargazer.stargazer import Stargazer\n",
    "from IPython.core.display import HTML\n",
    "\n",
    "palette1 = \"#D0DBE7\"\n",
    "palette2 = \"#984D64\""
   ]
  },
  {
   "cell_type": "code",
   "execution_count": 2,
   "metadata": {},
   "outputs": [],
   "source": [
    "wordle_word_stats = pd.read_csv(\"replication-data/wordle_word_stats.csv\")\n",
    "participant = pd.read_csv(\"replication-data/participant.csv\")\n",
    "rdf = pd.read_csv(\"replication-data/rdf.csv\")\n",
    "gdf2 = pd.read_csv(\"replication-data/gdf2.csv\")"
   ]
  },
  {
   "cell_type": "markdown",
   "metadata": {},
   "source": [
    "# Participants"
   ]
  },
  {
   "cell_type": "code",
   "execution_count": 3,
   "metadata": {},
   "outputs": [
    {
     "name": "stdout",
     "output_type": "stream",
     "text": [
      "\n",
      " Native English \n",
      "\n",
      "1    0.997018\n",
      "0    0.002982\n",
      "Name: native_english, dtype: float64\n",
      "\n",
      " Age \n",
      "\n",
      "count    996.000000\n",
      "mean      38.113454\n",
      "std       13.747551\n",
      "min       18.000000\n",
      "25%       27.000000\n",
      "50%       35.000000\n",
      "75%       47.000000\n",
      "max       84.000000\n",
      "Name: age, dtype: float64\n",
      "\n",
      " Sex \n",
      "\n",
      "Female    0.530815\n",
      "Male      0.469185\n",
      "Name: Sex, dtype: float64\n",
      "\n",
      " Wordle Play Frequency \n",
      "\n",
      "11-100    0.423459\n",
      "0         0.311133\n",
      "2-10      0.186879\n",
      "1         0.044732\n",
      "101+      0.033797\n",
      "Name: wordle_play_frequency, dtype: float64\n"
     ]
    }
   ],
   "source": [
    "print(\"\\n Native English \\n\")\n",
    "print(participant[\"native_english\"].value_counts(normalize=True))\n",
    "print(\"\\n Age \\n\")\n",
    "print(participant[\"age\"].describe())\n",
    "print(\"\\n Sex \\n\")\n",
    "print(participant[\"Sex\"].value_counts(normalize=True))\n",
    "print(\"\\n Wordle Play Frequency \\n\")\n",
    "print(participant['wordle_play_frequency'].value_counts(normalize=True))"
   ]
  },
  {
   "cell_type": "markdown",
   "metadata": {},
   "source": [
    "# Results"
   ]
  },
  {
   "cell_type": "markdown",
   "metadata": {},
   "source": [
    "## Table 2 – DVs: Did Win, Number of Guesses, Number of Guesses (Adjusted)"
   ]
  },
  {
   "cell_type": "code",
   "execution_count": 4,
   "metadata": {},
   "outputs": [
    {
     "name": "stderr",
     "output_type": "stream",
     "text": [
      "/Users/heart/anaconda3/lib/python3.8/site-packages/statsmodels/tsa/tsatools.py:130: FutureWarning: In a future version of pandas all arguments of concat except for the argument 'objs' will be keyword-only.\n",
      "  x = pd.concat(x[::order], 1)\n",
      "/Users/heart/anaconda3/lib/python3.8/site-packages/statsmodels/tsa/tsatools.py:130: FutureWarning: In a future version of pandas all arguments of concat except for the argument 'objs' will be keyword-only.\n",
      "  x = pd.concat(x[::order], 1)\n",
      "/Users/heart/anaconda3/lib/python3.8/site-packages/statsmodels/tsa/tsatools.py:130: FutureWarning: In a future version of pandas all arguments of concat except for the argument 'objs' will be keyword-only.\n",
      "  x = pd.concat(x[::order], 1)\n"
     ]
    },
    {
     "data": {
      "text/html": [
       "Prolific<br><table style=\"text-align:center\"><tr><td colspan=\"4\" style=\"border-bottom: 1px solid black\"></td></tr><tr><td style=\"text-align:left\"></td><tr><td></td><td colspan=\"1\">Did Win</td><td colspan=\"1\">Guesses</td><td colspan=\"1\">Guesses (Adjusted)</td></tr><tr><td colspan=\"4\" style=\"border-bottom: 1px solid black\"></td></tr><tr><td style=\"text-align:left\">Constant</td><td>0.72<sup>***</sup></td><td>4.82<sup>***</sup></td><td>5.10<sup>***</sup></td></tr><tr><td style=\"text-align:left\"></td><td>(0.02)</td><td>(0.04)</td><td>(0.06)</td></tr><tr><td style=\"text-align:left\">Anger</td><td>-0.07<sup>*</sup></td><td>0.15<sup>*</sup></td><td>0.21<sup>*</sup></td></tr><tr><td style=\"text-align:left\"></td><td>(0.03)</td><td>(0.06)</td><td>(0.08)</td></tr><tr><td style=\"text-align:left\">Empathy</td><td>-0.02<sup></sup></td><td>0.11<sup></sup></td><td>0.13<sup></sup></td></tr><tr><td style=\"text-align:left\"></td><td>(0.03)</td><td>(0.06)</td><td>(0.09)</td></tr><tr><td style=\"text-align:left\">Anger * Empathy</td><td>0.08<sup>*</sup></td><td>-0.21<sup>*</sup></td><td>-0.30<sup>*</sup></td></tr><tr><td style=\"text-align:left\"></td><td>(0.04)</td><td>(0.09)</td><td>(0.12)</td></tr><tr><td style=\"text-align: left\">Number of Participants</td><td>1006</td><td>1006</td><td>1006</td></tr><td colspan=\"4\" style=\"border-bottom: 1px solid black\"></td></tr><tr><td style=\"text-align: left\">Observations</td><td>3,975</td><td>3,975</td><td>3,975</td></tr><tr><td style=\"text-align: left\">R<sup>2</sup></td><td>0.00</td><td>0.00</td><td>0.00</td></tr><tr><td style=\"text-align: left\">Adjusted R<sup>2</sup></td><td>0.00</td><td>0.00</td><td>0.00</td></tr><tr><td style=\"text-align: left\">Residual Std. Error</td><td>0.46</td><td>1.20</td><td>1.53</td></tr><tr><td style=\"text-align: left\">F Statistic</td><td>2.19<sup></sup></td><td>2.25<sup></sup></td><td>2.43<sup></sup></td></tr><tr><td colspan=\"4\" style=\"border-bottom: 1px solid black\"></td></tr><tr><td style=\"text-align: left\">Note:</td>\n",
       " <td colspan=\"3\" style=\"text-align: right\">\n",
       "  <sup>*</sup>p&lt;0.05;\n",
       "  <sup>**</sup>p&lt;0.01;\n",
       "  <sup>***</sup>p&lt;0.001\n",
       " </td></tr></table>"
      ],
      "text/plain": [
       "<IPython.core.display.HTML object>"
      ]
     },
     "execution_count": 4,
     "metadata": {},
     "output_type": "execute_result"
    }
   ],
   "source": [
    "j = rdf\n",
    "j = j[j[\"round_index\"]<=3]\n",
    "columns = [\"t_anger\",\"t_empathy\",\"anger_empathy\"]\n",
    "dvs = [\"did_win\",\"guess_count\",\"guess_count_adj\"] #,\"end_arousal\",\"end_valence\", \"did_start_bonus_rounds\"]\n",
    "x = []\n",
    "for dv in dvs:\n",
    "    res = sm.OLS(j[dv], sm.add_constant(j[columns]), M=sm.robust.norms.HuberT()).fit(\n",
    "        cov_type='cluster', \n",
    "        cov_kwds={'groups': j.prolific_pid}\n",
    "        )\n",
    "    x.append(res)\n",
    "stargazer = Stargazer(x)\n",
    "stargazer.title(\"Prolific\")\n",
    "stargazer.custom_columns(['Did Win', 'Guesses',\"Guesses (Adjusted)\",\n",
    "#                           \"Arousal\",\"Valence\",\"Bonus Started\"\n",
    "                         ], [1,1,1,\n",
    "                            # 1,1,1\n",
    "                            ])\n",
    "stargazer.covariate_order(['const','t_anger','t_empathy','anger_empathy'])\n",
    "stargazer.rename_covariates({'const': 'Constant',\n",
    "                             \"t_anger\":\"Anger\",\n",
    "                             \"t_empathy\":\"Empathy\",\n",
    "                             \"anger_empathy\": \"Anger * Empathy\"})\n",
    "stargazer.significant_digits(2)\n",
    "stargazer.show_degrees_of_freedom(False)\n",
    "stargazer.significance_levels([0.05, 0.01, 0.001])\n",
    "stargazer.show_model_numbers(False)\n",
    "stargazer.add_line('Number of Participants', 3*[j.prolific_pid.nunique()])\n",
    "HTML(stargazer.render_html())"
   ]
  },
  {
   "cell_type": "code",
   "execution_count": 5,
   "metadata": {},
   "outputs": [
    {
     "data": {
      "text/html": [
       "<table class=\"simpletable\">\n",
       "<caption>OLS Regression Results</caption>\n",
       "<tr>\n",
       "  <th>Dep. Variable:</th>         <td>did_win</td>     <th>  R-squared:         </th> <td>   0.003</td>\n",
       "</tr>\n",
       "<tr>\n",
       "  <th>Model:</th>                   <td>OLS</td>       <th>  Adj. R-squared:    </th> <td>   0.003</td>\n",
       "</tr>\n",
       "<tr>\n",
       "  <th>Method:</th>             <td>Least Squares</td>  <th>  F-statistic:       </th> <td>   2.190</td>\n",
       "</tr>\n",
       "<tr>\n",
       "  <th>Date:</th>             <td>Thu, 28 Jul 2022</td> <th>  Prob (F-statistic):</th>  <td>0.0871</td> \n",
       "</tr>\n",
       "<tr>\n",
       "  <th>Time:</th>                 <td>15:21:52</td>     <th>  Log-Likelihood:    </th> <td> -2540.7</td>\n",
       "</tr>\n",
       "<tr>\n",
       "  <th>No. Observations:</th>      <td>  3975</td>      <th>  AIC:               </th> <td>   5089.</td>\n",
       "</tr>\n",
       "<tr>\n",
       "  <th>Df Residuals:</th>          <td>  3971</td>      <th>  BIC:               </th> <td>   5115.</td>\n",
       "</tr>\n",
       "<tr>\n",
       "  <th>Df Model:</th>              <td>     3</td>      <th>                     </th>     <td> </td>   \n",
       "</tr>\n",
       "<tr>\n",
       "  <th>Covariance Type:</th>       <td>cluster</td>     <th>                     </th>     <td> </td>   \n",
       "</tr>\n",
       "</table>\n",
       "<table class=\"simpletable\">\n",
       "<tr>\n",
       "        <td></td>           <th>coef</th>     <th>std err</th>      <th>z</th>      <th>P>|z|</th>  <th>[0.025</th>    <th>0.975]</th>  \n",
       "</tr>\n",
       "<tr>\n",
       "  <th>const</th>         <td>    0.7209</td> <td>    0.019</td> <td>   37.628</td> <td> 0.000</td> <td>    0.683</td> <td>    0.758</td>\n",
       "</tr>\n",
       "<tr>\n",
       "  <th>t_anger</th>       <td>   -0.0656</td> <td>    0.028</td> <td>   -2.311</td> <td> 0.021</td> <td>   -0.121</td> <td>   -0.010</td>\n",
       "</tr>\n",
       "<tr>\n",
       "  <th>t_empathy</th>     <td>   -0.0216</td> <td>    0.028</td> <td>   -0.761</td> <td> 0.446</td> <td>   -0.077</td> <td>    0.034</td>\n",
       "</tr>\n",
       "<tr>\n",
       "  <th>anger_empathy</th> <td>    0.0840</td> <td>    0.040</td> <td>    2.083</td> <td> 0.037</td> <td>    0.005</td> <td>    0.163</td>\n",
       "</tr>\n",
       "</table>\n",
       "<table class=\"simpletable\">\n",
       "<tr>\n",
       "  <th>Omnibus:</th>       <td>6022.388</td> <th>  Durbin-Watson:     </th> <td>   1.582</td> \n",
       "</tr>\n",
       "<tr>\n",
       "  <th>Prob(Omnibus):</th>  <td> 0.000</td>  <th>  Jarque-Bera (JB):  </th> <td> 744.820</td> \n",
       "</tr>\n",
       "<tr>\n",
       "  <th>Skew:</th>           <td>-0.856</td>  <th>  Prob(JB):          </th> <td>1.84e-162</td>\n",
       "</tr>\n",
       "<tr>\n",
       "  <th>Kurtosis:</th>       <td> 1.750</td>  <th>  Cond. No.          </th> <td>    6.77</td> \n",
       "</tr>\n",
       "</table><br/><br/>Warnings:<br/>[1] Standard Errors are robust to cluster correlation (cluster)"
      ],
      "text/plain": [
       "<class 'statsmodels.iolib.summary.Summary'>\n",
       "\"\"\"\n",
       "                            OLS Regression Results                            \n",
       "==============================================================================\n",
       "Dep. Variable:                did_win   R-squared:                       0.003\n",
       "Model:                            OLS   Adj. R-squared:                  0.003\n",
       "Method:                 Least Squares   F-statistic:                     2.190\n",
       "Date:                Thu, 28 Jul 2022   Prob (F-statistic):             0.0871\n",
       "Time:                        15:21:52   Log-Likelihood:                -2540.7\n",
       "No. Observations:                3975   AIC:                             5089.\n",
       "Df Residuals:                    3971   BIC:                             5115.\n",
       "Df Model:                           3                                         \n",
       "Covariance Type:              cluster                                         \n",
       "=================================================================================\n",
       "                    coef    std err          z      P>|z|      [0.025      0.975]\n",
       "---------------------------------------------------------------------------------\n",
       "const             0.7209      0.019     37.628      0.000       0.683       0.758\n",
       "t_anger          -0.0656      0.028     -2.311      0.021      -0.121      -0.010\n",
       "t_empathy        -0.0216      0.028     -0.761      0.446      -0.077       0.034\n",
       "anger_empathy     0.0840      0.040      2.083      0.037       0.005       0.163\n",
       "==============================================================================\n",
       "Omnibus:                     6022.388   Durbin-Watson:                   1.582\n",
       "Prob(Omnibus):                  0.000   Jarque-Bera (JB):              744.820\n",
       "Skew:                          -0.856   Prob(JB):                    1.84e-162\n",
       "Kurtosis:                       1.750   Cond. No.                         6.77\n",
       "==============================================================================\n",
       "\n",
       "Warnings:\n",
       "[1] Standard Errors are robust to cluster correlation (cluster)\n",
       "\"\"\""
      ]
     },
     "execution_count": 5,
     "metadata": {},
     "output_type": "execute_result"
    }
   ],
   "source": [
    "x[0].summary()\n",
    "# x[1].summary()\n",
    "# x[2].summary()"
   ]
  },
  {
   "cell_type": "code",
   "execution_count": 6,
   "metadata": {},
   "outputs": [
    {
     "data": {
      "text/plain": [
       "4    982\n",
       "1      9\n",
       "3      8\n",
       "2      7\n",
       "Name: prolific_pid, dtype: int64"
      ]
     },
     "execution_count": 6,
     "metadata": {},
     "output_type": "execute_result"
    }
   ],
   "source": [
    "rdf[rdf.round_index<=3].prolific_pid.value_counts().value_counts()"
   ]
  },
  {
   "cell_type": "markdown",
   "metadata": {},
   "source": [
    "## Round Fixed Effects"
   ]
  },
  {
   "cell_type": "code",
   "execution_count": 7,
   "metadata": {},
   "outputs": [
    {
     "name": "stderr",
     "output_type": "stream",
     "text": [
      "<ipython-input-7-4d214cb2085d>:3: SettingWithCopyWarning: \n",
      "A value is trying to be set on a copy of a slice from a DataFrame.\n",
      "Try using .loc[row_indexer,col_indexer] = value instead\n",
      "\n",
      "See the caveats in the documentation: https://pandas.pydata.org/pandas-docs/stable/user_guide/indexing.html#returning-a-view-versus-a-copy\n",
      "  j[\"r1\"] = (j.round_index==0).astype(int)\n",
      "<ipython-input-7-4d214cb2085d>:4: SettingWithCopyWarning: \n",
      "A value is trying to be set on a copy of a slice from a DataFrame.\n",
      "Try using .loc[row_indexer,col_indexer] = value instead\n",
      "\n",
      "See the caveats in the documentation: https://pandas.pydata.org/pandas-docs/stable/user_guide/indexing.html#returning-a-view-versus-a-copy\n",
      "  j[\"r2\"] = (j.round_index==1).astype(int)\n",
      "<ipython-input-7-4d214cb2085d>:5: SettingWithCopyWarning: \n",
      "A value is trying to be set on a copy of a slice from a DataFrame.\n",
      "Try using .loc[row_indexer,col_indexer] = value instead\n",
      "\n",
      "See the caveats in the documentation: https://pandas.pydata.org/pandas-docs/stable/user_guide/indexing.html#returning-a-view-versus-a-copy\n",
      "  j[\"r3\"] = (j.round_index==2).astype(int)\n",
      "<ipython-input-7-4d214cb2085d>:6: SettingWithCopyWarning: \n",
      "A value is trying to be set on a copy of a slice from a DataFrame.\n",
      "Try using .loc[row_indexer,col_indexer] = value instead\n",
      "\n",
      "See the caveats in the documentation: https://pandas.pydata.org/pandas-docs/stable/user_guide/indexing.html#returning-a-view-versus-a-copy\n",
      "  j[\"r4\"] = (j.round_index==3).astype(int)\n",
      "/Users/heart/anaconda3/lib/python3.8/site-packages/statsmodels/tsa/tsatools.py:130: FutureWarning: In a future version of pandas all arguments of concat except for the argument 'objs' will be keyword-only.\n",
      "  x = pd.concat(x[::order], 1)\n",
      "/Users/heart/anaconda3/lib/python3.8/site-packages/statsmodels/tsa/tsatools.py:130: FutureWarning: In a future version of pandas all arguments of concat except for the argument 'objs' will be keyword-only.\n",
      "  x = pd.concat(x[::order], 1)\n",
      "/Users/heart/anaconda3/lib/python3.8/site-packages/statsmodels/tsa/tsatools.py:130: FutureWarning: In a future version of pandas all arguments of concat except for the argument 'objs' will be keyword-only.\n",
      "  x = pd.concat(x[::order], 1)\n"
     ]
    },
    {
     "data": {
      "text/html": [
       "Prolific<br><table style=\"text-align:center\"><tr><td colspan=\"4\" style=\"border-bottom: 1px solid black\"></td></tr><tr><td style=\"text-align:left\"></td><tr><td></td><td colspan=\"1\">Did Win</td><td colspan=\"1\">Guesses</td><td colspan=\"1\">Guesses (Adjusted)</td></tr><tr><td colspan=\"4\" style=\"border-bottom: 1px solid black\"></td></tr><tr><td style=\"text-align:left\">Constant</td><td>0.58<sup>***</sup></td><td>3.85<sup>***</sup></td><td>4.08<sup>***</sup></td></tr><tr><td style=\"text-align:left\"></td><td>(0.02)</td><td>(0.04)</td><td>(0.05)</td></tr><tr><td style=\"text-align:left\">Anger</td><td>-0.07<sup>*</sup></td><td>0.15<sup>*</sup></td><td>0.21<sup>*</sup></td></tr><tr><td style=\"text-align:left\"></td><td>(0.03)</td><td>(0.06)</td><td>(0.08)</td></tr><tr><td style=\"text-align:left\">Empathy</td><td>-0.02<sup></sup></td><td>0.11<sup></sup></td><td>0.13<sup></sup></td></tr><tr><td style=\"text-align:left\"></td><td>(0.03)</td><td>(0.06)</td><td>(0.09)</td></tr><tr><td style=\"text-align:left\">Anger * Empathy</td><td>0.08<sup>*</sup></td><td>-0.21<sup>*</sup></td><td>-0.30<sup>*</sup></td></tr><tr><td style=\"text-align:left\"></td><td>(0.04)</td><td>(0.09)</td><td>(0.12)</td></tr><tr><td style=\"text-align:left\">r1</td><td>0.24<sup>***</sup></td><td>0.36<sup>***</sup></td><td>0.32<sup>***</sup></td></tr><tr><td style=\"text-align:left\"></td><td>(0.01)</td><td>(0.03)</td><td>(0.04)</td></tr><tr><td style=\"text-align:left\">r2</td><td>-0.00<sup></sup></td><td>1.59<sup>***</sup></td><td>1.79<sup>***</sup></td></tr><tr><td style=\"text-align:left\"></td><td>(0.01)</td><td>(0.02)</td><td>(0.03)</td></tr><tr><td style=\"text-align:left\">r3</td><td>0.24<sup>***</sup></td><td>0.79<sup>***</sup></td><td>0.75<sup>***</sup></td></tr><tr><td style=\"text-align:left\"></td><td>(0.01)</td><td>(0.03)</td><td>(0.03)</td></tr><tr><td style=\"text-align:left\">r4</td><td>0.10<sup>***</sup></td><td>1.12<sup>***</sup></td><td>1.23<sup>***</sup></td></tr><tr><td style=\"text-align:left\"></td><td>(0.01)</td><td>(0.03)</td><td>(0.04)</td></tr><tr><td style=\"text-align: left\">Number of Participants</td><td>1006</td><td>1006</td><td>1006</td></tr><td colspan=\"4\" style=\"border-bottom: 1px solid black\"></td></tr><tr><td style=\"text-align: left\">Observations</td><td>3,975</td><td>3,975</td><td>3,975</td></tr><tr><td style=\"text-align: left\">R<sup>2</sup></td><td>0.05</td><td>0.14</td><td>0.13</td></tr><tr><td style=\"text-align: left\">Adjusted R<sup>2</sup></td><td>0.05</td><td>0.14</td><td>0.13</td></tr><tr><td style=\"text-align: left\">Residual Std. Error</td><td>0.45</td><td>1.12</td><td>1.42</td></tr><tr><td style=\"text-align: left\">F Statistic</td><td>840.82<sup>***</sup></td><td>9588.32<sup>***</sup></td><td>5122.21<sup>***</sup></td></tr><tr><td colspan=\"4\" style=\"border-bottom: 1px solid black\"></td></tr><tr><td style=\"text-align: left\">Note:</td>\n",
       " <td colspan=\"3\" style=\"text-align: right\">\n",
       "  <sup>*</sup>p&lt;0.05;\n",
       "  <sup>**</sup>p&lt;0.01;\n",
       "  <sup>***</sup>p&lt;0.001\n",
       " </td></tr></table>"
      ],
      "text/plain": [
       "<IPython.core.display.HTML object>"
      ]
     },
     "execution_count": 7,
     "metadata": {},
     "output_type": "execute_result"
    }
   ],
   "source": [
    "j = rdf\n",
    "j = j[j[\"round_index\"]<=3]\n",
    "j[\"r1\"] = (j.round_index==0).astype(int)\n",
    "j[\"r2\"] = (j.round_index==1).astype(int)\n",
    "j[\"r3\"] = (j.round_index==2).astype(int)\n",
    "j[\"r4\"] = (j.round_index==3).astype(int)\n",
    "columns = [\"t_anger\",\"t_empathy\",\"anger_empathy\",\"r1\",\"r2\",\"r3\",\"r4\"]\n",
    "dvs = [\"did_win\",\"guess_count\",\"guess_count_adj\",] #,\"end_arousal\",\"end_valence\", \"did_start_bonus_rounds\"]\n",
    "x = []\n",
    "for dv in dvs:\n",
    "    res = sm.OLS(j[dv], sm.add_constant(j[columns]), M=sm.robust.norms.HuberT()).fit(\n",
    "        cov_type='cluster', \n",
    "        cov_kwds={'groups': j.prolific_pid}\n",
    "        )\n",
    "    x.append(res)\n",
    "stargazer = Stargazer(x)\n",
    "stargazer.title(\"Prolific\")\n",
    "stargazer.custom_columns(['Did Win', 'Guesses',\"Guesses (Adjusted)\",\n",
    "                         ], [1,1,1,\n",
    "                            # 1,1,1\n",
    "                            ])\n",
    "stargazer.covariate_order(['const','t_anger','t_empathy','anger_empathy',\"r1\",\"r2\",\"r3\",\"r4\"])\n",
    "stargazer.rename_covariates({'const': 'Constant',\n",
    "                             \"t_anger\":\"Anger\",\n",
    "                             \"t_empathy\":\"Empathy\",\n",
    "                             \"anger_empathy\": \"Anger * Empathy\"})\n",
    "stargazer.significant_digits(2)\n",
    "stargazer.show_degrees_of_freedom(False)\n",
    "stargazer.significance_levels([0.05, 0.01, 0.001])\n",
    "stargazer.show_model_numbers(False)\n",
    "stargazer.add_line('Number of Participants', 3*[j.prolific_pid.nunique()])\n",
    "HTML(stargazer.render_html())"
   ]
  },
  {
   "cell_type": "code",
   "execution_count": 8,
   "metadata": {},
   "outputs": [
    {
     "data": {
      "text/html": [
       "<table class=\"simpletable\">\n",
       "<caption>OLS Regression Results</caption>\n",
       "<tr>\n",
       "  <th>Dep. Variable:</th>         <td>did_win</td>     <th>  R-squared:         </th> <td>   0.053</td>\n",
       "</tr>\n",
       "<tr>\n",
       "  <th>Model:</th>                   <td>OLS</td>       <th>  Adj. R-squared:    </th> <td>   0.052</td>\n",
       "</tr>\n",
       "<tr>\n",
       "  <th>Method:</th>             <td>Least Squares</td>  <th>  F-statistic:       </th> <td>   840.8</td>\n",
       "</tr>\n",
       "<tr>\n",
       "  <th>Date:</th>             <td>Thu, 28 Jul 2022</td> <th>  Prob (F-statistic):</th>  <td>  0.00</td> \n",
       "</tr>\n",
       "<tr>\n",
       "  <th>Time:</th>                 <td>15:21:52</td>     <th>  Log-Likelihood:    </th> <td> -2438.9</td>\n",
       "</tr>\n",
       "<tr>\n",
       "  <th>No. Observations:</th>      <td>  3975</td>      <th>  AIC:               </th> <td>   4892.</td>\n",
       "</tr>\n",
       "<tr>\n",
       "  <th>Df Residuals:</th>          <td>  3968</td>      <th>  BIC:               </th> <td>   4936.</td>\n",
       "</tr>\n",
       "<tr>\n",
       "  <th>Df Model:</th>              <td>     6</td>      <th>                     </th>     <td> </td>   \n",
       "</tr>\n",
       "<tr>\n",
       "  <th>Covariance Type:</th>       <td>cluster</td>     <th>                     </th>     <td> </td>   \n",
       "</tr>\n",
       "</table>\n",
       "<table class=\"simpletable\">\n",
       "<tr>\n",
       "        <td></td>           <th>coef</th>     <th>std err</th>      <th>z</th>      <th>P>|z|</th>  <th>[0.025</th>    <th>0.975]</th>  \n",
       "</tr>\n",
       "<tr>\n",
       "  <th>const</th>         <td>    0.5764</td> <td>    0.015</td> <td>   37.586</td> <td> 0.000</td> <td>    0.546</td> <td>    0.606</td>\n",
       "</tr>\n",
       "<tr>\n",
       "  <th>t_anger</th>       <td>   -0.0654</td> <td>    0.028</td> <td>   -2.303</td> <td> 0.021</td> <td>   -0.121</td> <td>   -0.010</td>\n",
       "</tr>\n",
       "<tr>\n",
       "  <th>t_empathy</th>     <td>   -0.0217</td> <td>    0.028</td> <td>   -0.763</td> <td> 0.445</td> <td>   -0.077</td> <td>    0.034</td>\n",
       "</tr>\n",
       "<tr>\n",
       "  <th>anger_empathy</th> <td>    0.0839</td> <td>    0.040</td> <td>    2.078</td> <td> 0.038</td> <td>    0.005</td> <td>    0.163</td>\n",
       "</tr>\n",
       "<tr>\n",
       "  <th>r1</th>            <td>    0.2408</td> <td>    0.010</td> <td>   24.907</td> <td> 0.000</td> <td>    0.222</td> <td>    0.260</td>\n",
       "</tr>\n",
       "<tr>\n",
       "  <th>r2</th>            <td>   -0.0029</td> <td>    0.012</td> <td>   -0.241</td> <td> 0.810</td> <td>   -0.026</td> <td>    0.020</td>\n",
       "</tr>\n",
       "<tr>\n",
       "  <th>r3</th>            <td>    0.2390</td> <td>    0.010</td> <td>   24.410</td> <td> 0.000</td> <td>    0.220</td> <td>    0.258</td>\n",
       "</tr>\n",
       "<tr>\n",
       "  <th>r4</th>            <td>    0.0996</td> <td>    0.011</td> <td>    8.843</td> <td> 0.000</td> <td>    0.078</td> <td>    0.122</td>\n",
       "</tr>\n",
       "</table>\n",
       "<table class=\"simpletable\">\n",
       "<tr>\n",
       "  <th>Omnibus:</th>       <td>2003.311</td> <th>  Durbin-Watson:     </th> <td>   1.463</td> \n",
       "</tr>\n",
       "<tr>\n",
       "  <th>Prob(Omnibus):</th>  <td> 0.000</td>  <th>  Jarque-Bera (JB):  </th> <td> 620.763</td> \n",
       "</tr>\n",
       "<tr>\n",
       "  <th>Skew:</th>           <td>-0.794</td>  <th>  Prob(JB):          </th> <td>1.60e-135</td>\n",
       "</tr>\n",
       "<tr>\n",
       "  <th>Kurtosis:</th>       <td> 1.893</td>  <th>  Cond. No.          </th> <td>6.27e+15</td> \n",
       "</tr>\n",
       "</table><br/><br/>Warnings:<br/>[1] Standard Errors are robust to cluster correlation (cluster)<br/>[2] The smallest eigenvalue is 1.94e-28. This might indicate that there are<br/>strong multicollinearity problems or that the design matrix is singular."
      ],
      "text/plain": [
       "<class 'statsmodels.iolib.summary.Summary'>\n",
       "\"\"\"\n",
       "                            OLS Regression Results                            \n",
       "==============================================================================\n",
       "Dep. Variable:                did_win   R-squared:                       0.053\n",
       "Model:                            OLS   Adj. R-squared:                  0.052\n",
       "Method:                 Least Squares   F-statistic:                     840.8\n",
       "Date:                Thu, 28 Jul 2022   Prob (F-statistic):               0.00\n",
       "Time:                        15:21:52   Log-Likelihood:                -2438.9\n",
       "No. Observations:                3975   AIC:                             4892.\n",
       "Df Residuals:                    3968   BIC:                             4936.\n",
       "Df Model:                           6                                         \n",
       "Covariance Type:              cluster                                         \n",
       "=================================================================================\n",
       "                    coef    std err          z      P>|z|      [0.025      0.975]\n",
       "---------------------------------------------------------------------------------\n",
       "const             0.5764      0.015     37.586      0.000       0.546       0.606\n",
       "t_anger          -0.0654      0.028     -2.303      0.021      -0.121      -0.010\n",
       "t_empathy        -0.0217      0.028     -0.763      0.445      -0.077       0.034\n",
       "anger_empathy     0.0839      0.040      2.078      0.038       0.005       0.163\n",
       "r1                0.2408      0.010     24.907      0.000       0.222       0.260\n",
       "r2               -0.0029      0.012     -0.241      0.810      -0.026       0.020\n",
       "r3                0.2390      0.010     24.410      0.000       0.220       0.258\n",
       "r4                0.0996      0.011      8.843      0.000       0.078       0.122\n",
       "==============================================================================\n",
       "Omnibus:                     2003.311   Durbin-Watson:                   1.463\n",
       "Prob(Omnibus):                  0.000   Jarque-Bera (JB):              620.763\n",
       "Skew:                          -0.794   Prob(JB):                    1.60e-135\n",
       "Kurtosis:                       1.893   Cond. No.                     6.27e+15\n",
       "==============================================================================\n",
       "\n",
       "Warnings:\n",
       "[1] Standard Errors are robust to cluster correlation (cluster)\n",
       "[2] The smallest eigenvalue is 1.94e-28. This might indicate that there are\n",
       "strong multicollinearity problems or that the design matrix is singular.\n",
       "\"\"\""
      ]
     },
     "execution_count": 8,
     "metadata": {},
     "output_type": "execute_result"
    }
   ],
   "source": [
    "x[0].summary()\n"
   ]
  },
  {
   "cell_type": "markdown",
   "metadata": {},
   "source": [
    "## Heterogeneity of Treatment Effects"
   ]
  },
  {
   "cell_type": "markdown",
   "metadata": {},
   "source": [
    "### Cognitive Reflection Test (CRT)"
   ]
  },
  {
   "cell_type": "code",
   "execution_count": 9,
   "metadata": {},
   "outputs": [
    {
     "name": "stderr",
     "output_type": "stream",
     "text": [
      "/Users/heart/anaconda3/lib/python3.8/site-packages/statsmodels/tsa/tsatools.py:130: FutureWarning: In a future version of pandas all arguments of concat except for the argument 'objs' will be keyword-only.\n",
      "  x = pd.concat(x[::order], 1)\n",
      "/Users/heart/anaconda3/lib/python3.8/site-packages/statsmodels/tsa/tsatools.py:130: FutureWarning: In a future version of pandas all arguments of concat except for the argument 'objs' will be keyword-only.\n",
      "  x = pd.concat(x[::order], 1)\n",
      "/Users/heart/anaconda3/lib/python3.8/site-packages/statsmodels/tsa/tsatools.py:130: FutureWarning: In a future version of pandas all arguments of concat except for the argument 'objs' will be keyword-only.\n",
      "  x = pd.concat(x[::order], 1)\n"
     ]
    },
    {
     "data": {
      "text/html": [
       "Prolific<br><table style=\"text-align:center\"><tr><td colspan=\"4\" style=\"border-bottom: 1px solid black\"></td></tr><tr><td style=\"text-align:left\"></td><tr><td></td><td colspan=\"1\">Did Win</td><td colspan=\"1\">Guesses</td><td colspan=\"1\">Guesses (Adjusted)</td></tr><tr><td colspan=\"4\" style=\"border-bottom: 1px solid black\"></td></tr><tr><td style=\"text-align:left\">Constant</td><td>0.55<sup>***</sup></td><td>5.17<sup>***</sup></td><td>5.62<sup>***</sup></td></tr><tr><td style=\"text-align:left\"></td><td>(0.04)</td><td>(0.08)</td><td>(0.11)</td></tr><tr><td style=\"text-align:left\">Anger</td><td>-0.08<sup></sup></td><td>0.15<sup></sup></td><td>0.23<sup></sup></td></tr><tr><td style=\"text-align:left\"></td><td>(0.06)</td><td>(0.11)</td><td>(0.16)</td></tr><tr><td style=\"text-align:left\">Empathy</td><td>0.04<sup></sup></td><td>0.01<sup></sup></td><td>-0.03<sup></sup></td></tr><tr><td style=\"text-align:left\"></td><td>(0.06)</td><td>(0.11)</td><td>(0.16)</td></tr><tr><td style=\"text-align:left\">Anger * Empathy</td><td>0.05<sup></sup></td><td>-0.16<sup></sup></td><td>-0.21<sup></sup></td></tr><tr><td style=\"text-align:left\"></td><td>(0.08)</td><td>(0.16)</td><td>(0.23)</td></tr><tr><td style=\"text-align:left\">CRT</td><td>0.09<sup>***</sup></td><td>-0.20<sup>***</sup></td><td>-0.29<sup>***</sup></td></tr><tr><td style=\"text-align:left\"></td><td>(0.02)</td><td>(0.04)</td><td>(0.05)</td></tr><tr><td style=\"text-align:left\">CRT * Anger</td><td>0.02<sup></sup></td><td>-0.02<sup></sup></td><td>-0.03<sup></sup></td></tr><tr><td style=\"text-align:left\"></td><td>(0.02)</td><td>(0.05)</td><td>(0.07)</td></tr><tr><td style=\"text-align:left\">CRT * Empathy</td><td>-0.03<sup></sup></td><td>0.05<sup></sup></td><td>0.08<sup></sup></td></tr><tr><td style=\"text-align:left\"></td><td>(0.02)</td><td>(0.05)</td><td>(0.07)</td></tr><tr><td style=\"text-align:left\">CRT * Anger * Empathy</td><td>0.01<sup></sup></td><td>-0.01<sup></sup></td><td>-0.02<sup></sup></td></tr><tr><td style=\"text-align:left\"></td><td>(0.03)</td><td>(0.07)</td><td>(0.10)</td></tr><tr><td style=\"text-align: left\">Number of Participants</td><td>1006</td><td>1006</td><td>1006</td></tr><td colspan=\"4\" style=\"border-bottom: 1px solid black\"></td></tr><tr><td style=\"text-align: left\">Observations</td><td>3,975</td><td>3,975</td><td>3,975</td></tr><tr><td style=\"text-align: left\">R<sup>2</sup></td><td>0.05</td><td>0.03</td><td>0.05</td></tr><tr><td style=\"text-align: left\">Adjusted R<sup>2</sup></td><td>0.05</td><td>0.03</td><td>0.04</td></tr><tr><td style=\"text-align: left\">Residual Std. Error</td><td>0.45</td><td>1.18</td><td>1.49</td></tr><tr><td style=\"text-align: left\">F Statistic</td><td>16.01<sup>***</sup></td><td>15.13<sup>***</sup></td><td>17.44<sup>***</sup></td></tr><tr><td colspan=\"4\" style=\"border-bottom: 1px solid black\"></td></tr><tr><td style=\"text-align: left\">Note:</td>\n",
       " <td colspan=\"3\" style=\"text-align: right\">\n",
       "  <sup>*</sup>p&lt;0.05;\n",
       "  <sup>**</sup>p&lt;0.01;\n",
       "  <sup>***</sup>p&lt;0.001\n",
       " </td></tr></table>"
      ],
      "text/plain": [
       "<IPython.core.display.HTML object>"
      ]
     },
     "execution_count": 9,
     "metadata": {},
     "output_type": "execute_result"
    }
   ],
   "source": [
    "j = rdf\n",
    "j = j[j[\"round_index\"]<=3]\n",
    "columns = [\"t_anger\",\"t_empathy\",\"anger_empathy\",\"crt\",\"anger_crt\",\"empathy_crt\",\"anger_empathy_crt\"]\n",
    "dvs = [\"did_win\",\"guess_count\",\"guess_count_adj\"]\n",
    "x = []\n",
    "for dv in dvs:\n",
    "    res = sm.OLS(j[dv], sm.add_constant(j[columns]), M=sm.robust.norms.HuberT()).fit(\n",
    "        cov_type='cluster', \n",
    "        cov_kwds={'groups': j.prolific_pid}\n",
    "        )\n",
    "    x.append(res)\n",
    "stargazer = Stargazer(x)\n",
    "stargazer.title(\"Prolific\")\n",
    "stargazer.custom_columns(['Did Win', 'Guesses',\"Guesses (Adjusted)\"], [1,1,1])\n",
    "stargazer.covariate_order(['const','t_anger','t_empathy','anger_empathy',\"crt\",\"anger_crt\",\"empathy_crt\",\"anger_empathy_crt\"])\n",
    "stargazer.rename_covariates({'const': 'Constant',\n",
    "                             \"t_anger\":\"Anger\",\n",
    "                             \"t_empathy\":\"Empathy\",\n",
    "                             \"anger_empathy\": \"Anger * Empathy\",\n",
    "                            \"crt\": \"CRT\",\n",
    "                            \"anger_crt\":\"CRT * Anger\",\n",
    "                             \"empathy_crt\":\"CRT * Empathy\",\n",
    "                             \"anger_empathy_crt\":\"CRT * Anger * Empathy\",\n",
    "                            })\n",
    "stargazer.significant_digits(2)\n",
    "stargazer.show_degrees_of_freedom(False)\n",
    "stargazer.significance_levels([0.05, 0.01, 0.001])\n",
    "stargazer.show_model_numbers(False)\n",
    "stargazer.add_line('Number of Participants', 3*[j.prolific_pid.nunique()])\n",
    "HTML(stargazer.render_html())"
   ]
  },
  {
   "cell_type": "markdown",
   "metadata": {},
   "source": [
    "### Never Played Wordle"
   ]
  },
  {
   "cell_type": "code",
   "execution_count": 10,
   "metadata": {},
   "outputs": [
    {
     "name": "stderr",
     "output_type": "stream",
     "text": [
      "/Users/heart/anaconda3/lib/python3.8/site-packages/statsmodels/tsa/tsatools.py:130: FutureWarning: In a future version of pandas all arguments of concat except for the argument 'objs' will be keyword-only.\n",
      "  x = pd.concat(x[::order], 1)\n",
      "/Users/heart/anaconda3/lib/python3.8/site-packages/statsmodels/tsa/tsatools.py:130: FutureWarning: In a future version of pandas all arguments of concat except for the argument 'objs' will be keyword-only.\n",
      "  x = pd.concat(x[::order], 1)\n",
      "/Users/heart/anaconda3/lib/python3.8/site-packages/statsmodels/tsa/tsatools.py:130: FutureWarning: In a future version of pandas all arguments of concat except for the argument 'objs' will be keyword-only.\n",
      "  x = pd.concat(x[::order], 1)\n"
     ]
    },
    {
     "data": {
      "text/html": [
       "Prolific<br><table style=\"text-align:center\"><tr><td colspan=\"4\" style=\"border-bottom: 1px solid black\"></td></tr><tr><td style=\"text-align:left\"></td><tr><td></td><td colspan=\"1\">Did Win</td><td colspan=\"1\">Guesses</td><td colspan=\"1\">Guesses (Adjusted)</td></tr><tr><td colspan=\"4\" style=\"border-bottom: 1px solid black\"></td></tr><tr><td style=\"text-align:left\">Constant</td><td>0.78<sup>***</sup></td><td>4.71<sup>***</sup></td><td>4.93<sup>***</sup></td></tr><tr><td style=\"text-align:left\"></td><td>(0.02)</td><td>(0.05)</td><td>(0.07)</td></tr><tr><td style=\"text-align:left\">Anger</td><td>-0.06<sup></sup></td><td>0.11<sup></sup></td><td>0.17<sup></sup></td></tr><tr><td style=\"text-align:left\"></td><td>(0.03)</td><td>(0.07)</td><td>(0.09)</td></tr><tr><td style=\"text-align:left\">Empathy</td><td>-0.00<sup></sup></td><td>0.07<sup></sup></td><td>0.07<sup></sup></td></tr><tr><td style=\"text-align:left\"></td><td>(0.03)</td><td>(0.07)</td><td>(0.10)</td></tr><tr><td style=\"text-align:left\">Anger * Empathy</td><td>0.07<sup></sup></td><td>-0.20<sup></sup></td><td>-0.27<sup></sup></td></tr><tr><td style=\"text-align:left\"></td><td>(0.04)</td><td>(0.10)</td><td>(0.14)</td></tr><tr><td style=\"text-align:left\">Never Played Wordle</td><td>-0.20<sup>***</sup></td><td>0.35<sup>***</sup></td><td>0.55<sup>***</sup></td></tr><tr><td style=\"text-align:left\"></td><td>(0.04)</td><td>(0.10)</td><td>(0.14)</td></tr><tr><td style=\"text-align:left\">Never Played Wordle * Anger</td><td>0.00<sup></sup></td><td>0.07<sup></sup></td><td>0.06<sup></sup></td></tr><tr><td style=\"text-align:left\"></td><td>(0.06)</td><td>(0.13)</td><td>(0.18)</td></tr><tr><td style=\"text-align:left\">Never Played Wordle * Empathy</td><td>-0.05<sup></sup></td><td>0.11<sup></sup></td><td>0.15<sup></sup></td></tr><tr><td style=\"text-align:left\"></td><td>(0.06)</td><td>(0.14)</td><td>(0.19)</td></tr><tr><td style=\"text-align:left\"> Never Played Wordle * Anger * Empathy</td><td>-0.01<sup></sup></td><td>0.04<sup></sup></td><td>0.06<sup></sup></td></tr><tr><td style=\"text-align:left\"></td><td>(0.09)</td><td>(0.19)</td><td>(0.26)</td></tr><tr><td style=\"text-align: left\">Number of Participants</td><td>1006</td><td>1006</td><td>1006</td></tr><td colspan=\"4\" style=\"border-bottom: 1px solid black\"></td></tr><tr><td style=\"text-align: left\">Observations</td><td>3,975</td><td>3,975</td><td>3,975</td></tr><tr><td style=\"text-align: left\">R<sup>2</sup></td><td>0.05</td><td>0.03</td><td>0.04</td></tr><tr><td style=\"text-align: left\">Adjusted R<sup>2</sup></td><td>0.05</td><td>0.03</td><td>0.04</td></tr><tr><td style=\"text-align: left\">Residual Std. Error</td><td>0.45</td><td>1.19</td><td>1.49</td></tr><tr><td style=\"text-align: left\">F Statistic</td><td>15.09<sup>***</sup></td><td>14.43<sup>***</sup></td><td>16.21<sup>***</sup></td></tr><tr><td colspan=\"4\" style=\"border-bottom: 1px solid black\"></td></tr><tr><td style=\"text-align: left\">Note:</td>\n",
       " <td colspan=\"3\" style=\"text-align: right\">\n",
       "  <sup>*</sup>p&lt;0.05;\n",
       "  <sup>**</sup>p&lt;0.01;\n",
       "  <sup>***</sup>p&lt;0.001\n",
       " </td></tr></table>"
      ],
      "text/plain": [
       "<IPython.core.display.HTML object>"
      ]
     },
     "execution_count": 10,
     "metadata": {},
     "output_type": "execute_result"
    }
   ],
   "source": [
    "j = rdf\n",
    "j = j[j[\"round_index\"]<=3]\n",
    "columns = [\"t_anger\",\"t_empathy\",\"anger_empathy\",\"wordle_0\",\"anger_exp\",\"empathy_exp\",\"anger_empathy_exp\"]\n",
    "dvs = [\"did_win\",\"guess_count\",\"guess_count_adj\"]\n",
    "x = []\n",
    "for dv in dvs:\n",
    "    res = sm.OLS(j[dv], sm.add_constant(j[columns]), M=sm.robust.norms.HuberT()).fit(\n",
    "        cov_type='cluster', \n",
    "        cov_kwds={'groups': j.prolific_pid}\n",
    "        )\n",
    "    x.append(res)\n",
    "stargazer = Stargazer(x)\n",
    "stargazer.title(\"Prolific\")\n",
    "stargazer.custom_columns(['Did Win', 'Guesses',\"Guesses (Adjusted)\"], [1,1,1])\n",
    "stargazer.covariate_order(['const','t_anger','t_empathy','anger_empathy',\"wordle_0\",\"anger_exp\",\"empathy_exp\",\"anger_empathy_exp\"])\n",
    "stargazer.rename_covariates({'const': 'Constant',\n",
    "                             \"t_anger\":\"Anger\",\n",
    "                             \"t_empathy\":\"Empathy\",\n",
    "                             \"anger_empathy\": \"Anger * Empathy\",\n",
    "                            \"wordle_0\": \"Never Played Wordle\",\n",
    "                            \"anger_exp\":\"Never Played Wordle * Anger\",\n",
    "                             \"empathy_exp\":\"Never Played Wordle * Empathy\",\n",
    "                             \"anger_empathy_exp\": \" Never Played Wordle * Anger * Empathy\",})\n",
    "stargazer.significant_digits(2)\n",
    "stargazer.show_degrees_of_freedom(False)\n",
    "stargazer.significance_levels([0.05, 0.01, 0.001])\n",
    "stargazer.show_model_numbers(False)\n",
    "stargazer.add_line('Number of Participants', 3*[j.prolific_pid.nunique()])\n",
    "HTML(stargazer.render_html())"
   ]
  },
  {
   "cell_type": "markdown",
   "metadata": {},
   "source": [
    "### Sex"
   ]
  },
  {
   "cell_type": "code",
   "execution_count": 11,
   "metadata": {},
   "outputs": [
    {
     "name": "stderr",
     "output_type": "stream",
     "text": [
      "/Users/heart/anaconda3/lib/python3.8/site-packages/statsmodels/tsa/tsatools.py:130: FutureWarning: In a future version of pandas all arguments of concat except for the argument 'objs' will be keyword-only.\n",
      "  x = pd.concat(x[::order], 1)\n",
      "/Users/heart/anaconda3/lib/python3.8/site-packages/statsmodels/tsa/tsatools.py:130: FutureWarning: In a future version of pandas all arguments of concat except for the argument 'objs' will be keyword-only.\n",
      "  x = pd.concat(x[::order], 1)\n",
      "/Users/heart/anaconda3/lib/python3.8/site-packages/statsmodels/tsa/tsatools.py:130: FutureWarning: In a future version of pandas all arguments of concat except for the argument 'objs' will be keyword-only.\n",
      "  x = pd.concat(x[::order], 1)\n"
     ]
    },
    {
     "data": {
      "text/html": [
       "Prolific<br><table style=\"text-align:center\"><tr><td colspan=\"4\" style=\"border-bottom: 1px solid black\"></td></tr><tr><td style=\"text-align:left\"></td><tr><td></td><td colspan=\"1\">Did Win</td><td colspan=\"1\">Guesses</td><td colspan=\"1\">Guesses (Adjusted)</td></tr><tr><td colspan=\"4\" style=\"border-bottom: 1px solid black\"></td></tr><tr><td style=\"text-align:left\">Constant</td><td>0.70<sup>***</sup></td><td>4.82<sup>***</sup></td><td>5.12<sup>***</sup></td></tr><tr><td style=\"text-align:left\"></td><td>(0.03)</td><td>(0.07)</td><td>(0.10)</td></tr><tr><td style=\"text-align:left\">Anger</td><td>-0.06<sup></sup></td><td>0.18<sup>*</sup></td><td>0.24<sup>*</sup></td></tr><tr><td style=\"text-align:left\"></td><td>(0.04)</td><td>(0.09)</td><td>(0.13)</td></tr><tr><td style=\"text-align:left\">Empathy</td><td>-0.04<sup></sup></td><td>0.20<sup>**</sup></td><td>0.24<sup>*</sup></td></tr><tr><td style=\"text-align:left\"></td><td>(0.04)</td><td>(0.10)</td><td>(0.13)</td></tr><tr><td style=\"text-align:left\">Anger * Empathy</td><td>0.09<sup></sup></td><td>-0.26<sup>**</sup></td><td>-0.35<sup>*</sup></td></tr><tr><td style=\"text-align:left\"></td><td>(0.06)</td><td>(0.13)</td><td>(0.18)</td></tr><tr><td style=\"text-align:left\">Female</td><td>0.03<sup></sup></td><td>-0.01<sup></sup></td><td>-0.04<sup></sup></td></tr><tr><td style=\"text-align:left\"></td><td>(0.04)</td><td>(0.09)</td><td>(0.12)</td></tr><tr><td style=\"text-align:left\">Female * Anger</td><td>-0.01<sup></sup></td><td>-0.07<sup></sup></td><td>-0.06<sup></sup></td></tr><tr><td style=\"text-align:left\"></td><td>(0.06)</td><td>(0.13)</td><td>(0.17)</td></tr><tr><td style=\"text-align:left\">Female * Empathy</td><td>0.04<sup></sup></td><td>-0.18<sup></sup></td><td>-0.22<sup></sup></td></tr><tr><td style=\"text-align:left\"></td><td>(0.06)</td><td>(0.13)</td><td>(0.18)</td></tr><tr><td style=\"text-align:left\">Female * Anger * Empathy</td><td>-0.02<sup></sup></td><td>0.12<sup></sup></td><td>0.14<sup></sup></td></tr><tr><td style=\"text-align:left\"></td><td>(0.08)</td><td>(0.18)</td><td>(0.25)</td></tr><tr><td style=\"text-align: left\">Number of Participants</td><td>1006</td><td>1006</td><td>1006</td></tr><td colspan=\"4\" style=\"border-bottom: 1px solid black\"></td></tr><tr><td style=\"text-align: left\">Observations</td><td>3,975</td><td>3,975</td><td>3,975</td></tr><tr><td style=\"text-align: left\">R<sup>2</sup></td><td>0.01</td><td>0.00</td><td>0.01</td></tr><tr><td style=\"text-align: left\">Adjusted R<sup>2</sup></td><td>0.00</td><td>0.00</td><td>0.00</td></tr><tr><td style=\"text-align: left\">Residual Std. Error</td><td>0.46</td><td>1.20</td><td>1.52</td></tr><tr><td style=\"text-align: left\">F Statistic</td><td>1.68<sup></sup></td><td>2.12<sup>**</sup></td><td>2.15<sup>**</sup></td></tr><tr><td colspan=\"4\" style=\"border-bottom: 1px solid black\"></td></tr><tr><td style=\"text-align: left\">Note:</td>\n",
       " <td colspan=\"3\" style=\"text-align: right\">\n",
       "  <sup>*</sup>p&lt;0.1;\n",
       "  <sup>**</sup>p&lt;0.05;\n",
       "  <sup>***</sup>p&lt;0.001\n",
       " </td></tr></table>"
      ],
      "text/plain": [
       "<IPython.core.display.HTML object>"
      ]
     },
     "execution_count": 11,
     "metadata": {},
     "output_type": "execute_result"
    }
   ],
   "source": [
    "j = rdf\n",
    "j = j[j[\"round_index\"]<=3]\n",
    "columns = [\"t_anger\",\"t_empathy\",\"anger_empathy\",\"female\",\"anger_fem\",\"empathy_fem\",\"anger_empathy_fem\"]\n",
    "dvs = [\"did_win\",\"guess_count\",\"guess_count_adj\"] \n",
    "x = []\n",
    "for dv in dvs:\n",
    "    res = sm.OLS(j[dv], sm.add_constant(j[columns]), M=sm.robust.norms.HuberT()).fit(\n",
    "        cov_type='cluster', \n",
    "        cov_kwds={'groups': j.prolific_pid}\n",
    "        )\n",
    "    x.append(res)\n",
    "stargazer = Stargazer(x)\n",
    "stargazer.title(\"Prolific\")\n",
    "stargazer.custom_columns(['Did Win', 'Guesses',\"Guesses (Adjusted)\"], [1,1,1])\n",
    "stargazer.covariate_order(['const','t_anger','t_empathy','anger_empathy',\"female\",\"anger_fem\",\"empathy_fem\",\"anger_empathy_fem\"])\n",
    "stargazer.rename_covariates({'const': 'Constant',\n",
    "                             \"t_anger\":\"Anger\",\n",
    "                             \"t_empathy\":\"Empathy\",\n",
    "                             \"anger_empathy\": \"Anger * Empathy\",\n",
    "                            \"female\": \"Female\",\n",
    "                            \"anger_fem\":\"Female * Anger\",\n",
    "                             \"empathy_fem\":\"Female * Empathy\",\n",
    "                             \"anger_empathy_fem\": \"Female * Anger * Empathy\"})\n",
    "stargazer.significant_digits(2)\n",
    "stargazer.show_degrees_of_freedom(False)\n",
    "stargazer.significance_levels([0.1, 0.05, 0.001])\n",
    "stargazer.show_model_numbers(False)\n",
    "stargazer.add_line('Number of Participants', 3*[j.prolific_pid.nunique()])\n",
    "HTML(stargazer.render_html())"
   ]
  },
  {
   "cell_type": "markdown",
   "metadata": {},
   "source": [
    "## Guess Level Entropy Reduction"
   ]
  },
  {
   "cell_type": "code",
   "execution_count": 12,
   "metadata": {},
   "outputs": [
    {
     "name": "stderr",
     "output_type": "stream",
     "text": [
      "/Users/heart/anaconda3/lib/python3.8/site-packages/statsmodels/tsa/tsatools.py:130: FutureWarning: In a future version of pandas all arguments of concat except for the argument 'objs' will be keyword-only.\n",
      "  x = pd.concat(x[::order], 1)\n",
      "/Users/heart/anaconda3/lib/python3.8/site-packages/statsmodels/tsa/tsatools.py:130: FutureWarning: In a future version of pandas all arguments of concat except for the argument 'objs' will be keyword-only.\n",
      "  x = pd.concat(x[::order], 1)\n",
      "/Users/heart/anaconda3/lib/python3.8/site-packages/statsmodels/tsa/tsatools.py:130: FutureWarning: In a future version of pandas all arguments of concat except for the argument 'objs' will be keyword-only.\n",
      "  x = pd.concat(x[::order], 1)\n",
      "/Users/heart/anaconda3/lib/python3.8/site-packages/statsmodels/tsa/tsatools.py:130: FutureWarning: In a future version of pandas all arguments of concat except for the argument 'objs' will be keyword-only.\n",
      "  x = pd.concat(x[::order], 1)\n",
      "/Users/heart/anaconda3/lib/python3.8/site-packages/statsmodels/tsa/tsatools.py:130: FutureWarning: In a future version of pandas all arguments of concat except for the argument 'objs' will be keyword-only.\n",
      "  x = pd.concat(x[::order], 1)\n",
      "/Users/heart/anaconda3/lib/python3.8/site-packages/statsmodels/tsa/tsatools.py:130: FutureWarning: In a future version of pandas all arguments of concat except for the argument 'objs' will be keyword-only.\n",
      "  x = pd.concat(x[::order], 1)\n"
     ]
    },
    {
     "data": {
      "text/html": [
       "Prolific<br><table style=\"text-align:center\"><tr><td colspan=\"7\" style=\"border-bottom: 1px solid black\"></td></tr><tr><td style=\"text-align:left\"></td><td colspan=\"6\"><em>Dependent variable:log_guesses_mean_2k</em></td></tr><tr><td style=\"text-align:left\"></td><tr><td></td><td colspan=\"1\">1st Guess</td><td colspan=\"1\">2nd Guess</td><td colspan=\"1\">3rd Guess</td><td colspan=\"1\">4th Guess</td><td colspan=\"1\">5th Guess</td><td colspan=\"1\">6th Guess</td></tr><tr><td colspan=\"7\" style=\"border-bottom: 1px solid black\"></td></tr><tr><td style=\"text-align:left\">Constant</td><td>7.0351<sup>***</sup></td><td>3.5355<sup>***</sup></td><td>1.6630<sup>***</sup></td><td>0.9101<sup>***</sup></td><td>0.5916<sup>***</sup></td><td>0.4711<sup>***</sup></td></tr><tr><td style=\"text-align:left\"></td><td>(0.0305)</td><td>(0.0537)</td><td>(0.0520)</td><td>(0.0475)</td><td>(0.0479)</td><td>(0.0560)</td></tr><tr><td style=\"text-align:left\">Anger</td><td>0.1120<sup>**</sup></td><td>0.1447<sup></sup></td><td>0.1638<sup>*</sup></td><td>0.1473<sup>*</sup></td><td>0.0745<sup></sup></td><td>0.0014<sup></sup></td></tr><tr><td style=\"text-align:left\"></td><td>(0.0433)</td><td>(0.0781)</td><td>(0.0769)</td><td>(0.0689)</td><td>(0.0664)</td><td>(0.0720)</td></tr><tr><td style=\"text-align:left\">Empathy</td><td>0.0102<sup></sup></td><td>0.0541<sup></sup></td><td>0.1343<sup></sup></td><td>0.0527<sup></sup></td><td>-0.0319<sup></sup></td><td>-0.0290<sup></sup></td></tr><tr><td style=\"text-align:left\"></td><td>(0.0420)</td><td>(0.0777)</td><td>(0.0773)</td><td>(0.0686)</td><td>(0.0663)</td><td>(0.0737)</td></tr><tr><td style=\"text-align:left\">Anger * Empathy</td><td>-0.1023<sup></sup></td><td>-0.2143<sup></sup></td><td>-0.2244<sup>*</sup></td><td>-0.1642<sup></sup></td><td>-0.0590<sup></sup></td><td>0.0569<sup></sup></td></tr><tr><td style=\"text-align:left\"></td><td>(0.0595)</td><td>(0.1132)</td><td>(0.1111)</td><td>(0.0986)</td><td>(0.0930)</td><td>(0.1012)</td></tr><tr><td style=\"text-align: left\">Number of Participants</td><td>1006</td><td>1006</td><td>1006</td><td>1005</td><td>982</td><td>838</td></tr><td colspan=\"7\" style=\"border-bottom: 1px solid black\"></td></tr><tr><td style=\"text-align: left\">Observations</td><td>3,981</td><td>3,968</td><td>3,850</td><td>3,339</td><td>2,553</td><td>1,760</td></tr><tr><td style=\"text-align: left\">R<sup>2</sup></td><td>0.0053</td><td>0.0017</td><td>0.0020</td><td>0.0022</td><td>0.0018</td><td>0.0005</td></tr><tr><td style=\"text-align: left\">Adjusted R<sup>2</sup></td><td>0.0045</td><td>0.0010</td><td>0.0012</td><td>0.0013</td><td>0.0006</td><td>-0.0012</td></tr><tr><td style=\"text-align: left\">Residual Std. Error</td><td>0.6270</td><td>1.5393</td><td>1.4366</td><td>1.1974</td><td>0.9942</td><td>0.9210</td></tr><tr><td style=\"text-align: left\">F Statistic</td><td>2.8707<sup>*</sup></td><td>1.6150<sup></sup></td><td>1.7918<sup></sup></td><td>1.6337<sup></sup></td><td>1.0534<sup></sup></td><td>0.2254<sup></sup></td></tr><tr><td colspan=\"7\" style=\"border-bottom: 1px solid black\"></td></tr><tr><td style=\"text-align: left\">Note:</td>\n",
       " <td colspan=\"6\" style=\"text-align: right\">\n",
       "  <sup>*</sup>p&lt;0.05;\n",
       "  <sup>**</sup>p&lt;0.01;\n",
       "  <sup>***</sup>p&lt;0.001\n",
       " </td></tr></table>"
      ],
      "text/plain": [
       "<IPython.core.display.HTML object>"
      ]
     },
     "execution_count": 12,
     "metadata": {},
     "output_type": "execute_result"
    },
    {
     "data": {
      "image/png": "[encoded data removed]",
      "text/plain": [
       "<Figure size 432x288 with 1 Axes>"
      ]
     },
     "metadata": {
      "needs_background": "light"
     },
     "output_type": "display_data"
    }
   ],
   "source": [
    "jj = gdf2\n",
    "columns = [\"t_anger\",\"t_empathy\",\"anger_empathy\"]\n",
    "dvs = ['log_guesses_mean_2k']\n",
    "x = []\n",
    "gi = 0\n",
    "y1 = []\n",
    "y2 = []\n",
    "y3 = []\n",
    "z1 = []\n",
    "z2 = []\n",
    "z3 = []\n",
    "gr = []\n",
    "npart = []\n",
    "for t in range(0,6):\n",
    "#     print(t)\n",
    "    for dv in dvs:\n",
    "        k = jj[(jj.round_index<=3) & (jj.guess_index==t) & (jj.was_valid==1)]\n",
    "#         print(dv)\n",
    "        res = sm.OLS(k[dv], sm.add_constant(k[columns]), M=sm.robust.norms.HuberT()).fit(\n",
    "                cov_type='cluster', \n",
    "                cov_kwds={'groups': k.prolific_pid}\n",
    "                )\n",
    "        x.append(res)\n",
    "    gr.append(t)\n",
    "#     print(x[t].params[1])\n",
    "#     print(x[t].pvalues[1])\n",
    "#     print(x[t].params[3])\n",
    "#     print(x[t].pvalues[3])\n",
    "\n",
    "    y1.append(x[t].params[1])\n",
    "    y2.append(x[t].bse[1]*1.96)\n",
    "    z1.append(x[t].params[3])\n",
    "    \n",
    "    z2.append(x[t].bse[3]*1.96)\n",
    "    npart.append(k.prolific_pid.nunique())\n",
    "stargazer = Stargazer(x)\n",
    "stargazer.title(\"Prolific\")\n",
    "stargazer.custom_columns([\"1st Guess\",\n",
    "                          \"2nd Guess\",\n",
    "                          \"3rd Guess\",\n",
    "                          \"4th Guess\",\n",
    "                          \"5th Guess\",\n",
    "                          \"6th Guess\"\n",
    "                         ], [1,1,1,1,1,1])\n",
    "stargazer.covariate_order(['const','t_anger','t_empathy','anger_empathy',\n",
    "#                            \"round_index\", \"wordle_1\",\"wordle_2\",\"wordle_11\",\"wordle_101\"\n",
    "                          ])\n",
    "stargazer.rename_covariates({'const': 'Constant',\n",
    "                             \"t_anger\":\"Anger\",\n",
    "                             \"t_empathy\":\"Empathy\",\n",
    "                             \"anger_empathy\": \"Anger * Empathy\"})\n",
    "stargazer.significant_digits(2)\n",
    "stargazer.significant_digits(4)\n",
    "stargazer.show_degrees_of_freedom(False)\n",
    "stargazer.significance_levels([0.05, 0.01, 0.001])\n",
    "stargazer.show_model_numbers(False)\n",
    "stargazer.add_line('Number of Participants', npart)\n",
    "plt.plot(range(1,7), y1, color=palette2, linewidth=4)\n",
    "plt.errorbar(range(1,7), y1, yerr=y2, ls='none', color=palette2, alpha=.8, label=\"Anger\", elinewidth=2)\n",
    "plt.plot(range(1,7), z1, color=palette1, linewidth=4)\n",
    "plt.errorbar(range(1,7), z1, yerr=z2, ls='none', color=palette1, alpha=.8, label=\"Anger*Empathy\", elinewidth=2)\n",
    "\n",
    "plt.hlines(xmin=.9, xmax=6.1,y=0, ls=\"dotted\")\n",
    "\n",
    "plt.xlabel(\"Guess Index\")\n",
    "plt.ylabel(\"Mean Marginal Bits Remaining\")\n",
    "plt.xlim(.9,6.1)\n",
    "plt.legend(loc=\"lower right\")\n",
    "plt.savefig(\"entropy.png\", dpi=300)\n",
    "HTML(stargazer.render_html())"
   ]
  },
  {
   "cell_type": "code",
   "execution_count": 13,
   "metadata": {},
   "outputs": [
    {
     "name": "stderr",
     "output_type": "stream",
     "text": [
      "/Users/heart/anaconda3/lib/python3.8/site-packages/statsmodels/tsa/tsatools.py:130: FutureWarning: In a future version of pandas all arguments of concat except for the argument 'objs' will be keyword-only.\n",
      "  x = pd.concat(x[::order], 1)\n",
      "/Users/heart/anaconda3/lib/python3.8/site-packages/statsmodels/tsa/tsatools.py:130: FutureWarning: In a future version of pandas all arguments of concat except for the argument 'objs' will be keyword-only.\n",
      "  x = pd.concat(x[::order], 1)\n",
      "/Users/heart/anaconda3/lib/python3.8/site-packages/statsmodels/tsa/tsatools.py:130: FutureWarning: In a future version of pandas all arguments of concat except for the argument 'objs' will be keyword-only.\n",
      "  x = pd.concat(x[::order], 1)\n",
      "/Users/heart/anaconda3/lib/python3.8/site-packages/statsmodels/tsa/tsatools.py:130: FutureWarning: In a future version of pandas all arguments of concat except for the argument 'objs' will be keyword-only.\n",
      "  x = pd.concat(x[::order], 1)\n",
      "/Users/heart/anaconda3/lib/python3.8/site-packages/statsmodels/tsa/tsatools.py:130: FutureWarning: In a future version of pandas all arguments of concat except for the argument 'objs' will be keyword-only.\n",
      "  x = pd.concat(x[::order], 1)\n",
      "/Users/heart/anaconda3/lib/python3.8/site-packages/statsmodels/tsa/tsatools.py:130: FutureWarning: In a future version of pandas all arguments of concat except for the argument 'objs' will be keyword-only.\n",
      "  x = pd.concat(x[::order], 1)\n"
     ]
    },
    {
     "data": {
      "text/html": [
       "2<br><table style=\"text-align:center\"><tr><td colspan=\"7\" style=\"border-bottom: 1px solid black\"></td></tr><tr><td style=\"text-align:left\"></td><td colspan=\"6\"><em>Dependent variable:log_guesses_median_12k</em></td></tr><tr><td style=\"text-align:left\"></td><tr><td></td><td colspan=\"1\">1st Guess</td><td colspan=\"1\">2nd Guess</td><td colspan=\"1\">3rd Guess</td><td colspan=\"1\">4th Guess</td><td colspan=\"1\">5th Guess</td><td colspan=\"1\">6th Guess</td></tr><tr><td colspan=\"7\" style=\"border-bottom: 1px solid black\"></td></tr><tr><td style=\"text-align:left\">Constant</td><td>9.0903<sup>***</sup></td><td>5.3546<sup>***</sup></td><td>3.0549<sup>***</sup></td><td>2.1170<sup>***</sup></td><td>1.6589<sup>***</sup></td><td>1.3313<sup>***</sup></td></tr><tr><td style=\"text-align:left\"></td><td>(0.0312)</td><td>(0.0682)</td><td>(0.0720)</td><td>(0.0665)</td><td>(0.0715)</td><td>(0.0862)</td></tr><tr><td style=\"text-align:left\">Anger</td><td>0.1255<sup>**</sup></td><td>0.1468<sup></sup></td><td>0.1745<sup></sup></td><td>0.1362<sup></sup></td><td>0.0549<sup></sup></td><td>-0.0118<sup></sup></td></tr><tr><td style=\"text-align:left\"></td><td>(0.0428)</td><td>(0.0985)</td><td>(0.1073)</td><td>(0.0960)</td><td>(0.0984)</td><td>(0.1141)</td></tr><tr><td style=\"text-align:left\">Empathy</td><td>0.0163<sup></sup></td><td>0.0875<sup></sup></td><td>0.1330<sup></sup></td><td>0.0368<sup></sup></td><td>-0.0665<sup></sup></td><td>-0.0220<sup></sup></td></tr><tr><td style=\"text-align:left\"></td><td>(0.0420)</td><td>(0.0975)</td><td>(0.1058)</td><td>(0.0954)</td><td>(0.0978)</td><td>(0.1156)</td></tr><tr><td style=\"text-align:left\">Anger * Empathy</td><td>-0.1021<sup></sup></td><td>-0.2510<sup></sup></td><td>-0.2035<sup></sup></td><td>-0.1608<sup></sup></td><td>-0.1264<sup></sup></td><td>-0.0294<sup></sup></td></tr><tr><td style=\"text-align:left\"></td><td>(0.0587)</td><td>(0.1419)</td><td>(0.1534)</td><td>(0.1371)</td><td>(0.1379)</td><td>(0.1600)</td></tr><tr><td style=\"text-align: left\">Number of Participants</td><td>1006</td><td>1006</td><td>1006</td><td>1005</td><td>982</td><td>838</td></tr><td colspan=\"7\" style=\"border-bottom: 1px solid black\"></td></tr><tr><td style=\"text-align: left\">Observations</td><td>3,981</td><td>3,968</td><td>3,850</td><td>3,339</td><td>2,553</td><td>1,760</td></tr><tr><td style=\"text-align: left\">R<sup>2</sup></td><td>0.0058</td><td>0.0013</td><td>0.0011</td><td>0.0010</td><td>0.0021</td><td>0.0002</td></tr><tr><td style=\"text-align: left\">Adjusted R<sup>2</sup></td><td>0.0050</td><td>0.0005</td><td>0.0003</td><td>0.0001</td><td>0.0009</td><td>-0.0015</td></tr><tr><td style=\"text-align: left\">Residual Std. Error</td><td>0.6470</td><td>1.8837</td><td>1.9721</td><td>1.7722</td><td>1.5906</td><td>1.5227</td></tr><tr><td style=\"text-align: left\">F Statistic</td><td>3.5632<sup>*</sup></td><td>1.1531<sup></sup></td><td>0.9962<sup></sup></td><td>0.8099<sup></sup></td><td>1.4670<sup></sup></td><td>0.1118<sup></sup></td></tr><tr><td colspan=\"7\" style=\"border-bottom: 1px solid black\"></td></tr><tr><td style=\"text-align: left\">Note:</td>\n",
       " <td colspan=\"6\" style=\"text-align: right\">\n",
       "  <sup>*</sup>p&lt;0.05;\n",
       "  <sup>**</sup>p&lt;0.01;\n",
       "  <sup>***</sup>p&lt;0.001\n",
       " </td></tr></table>"
      ],
      "text/plain": [
       "<IPython.core.display.HTML object>"
      ]
     },
     "execution_count": 13,
     "metadata": {},
     "output_type": "execute_result"
    },
    {
     "data": {
      "image/png": "[encoded data removed]",
      "text/plain": [
       "<Figure size 432x288 with 1 Axes>"
      ]
     },
     "metadata": {
      "needs_background": "light"
     },
     "output_type": "display_data"
    }
   ],
   "source": [
    "columns = [\"t_anger\",\"t_empathy\",\"anger_empathy\"]\n",
    "dvs = ['log_guesses_median_12k']\n",
    "x = []\n",
    "gi = 0\n",
    "y1 = []\n",
    "y2 = []\n",
    "y3 = []\n",
    "z1 = []\n",
    "z2 = []\n",
    "z3 = []\n",
    "gr = []\n",
    "npart = []\n",
    "for t in range(0,6):\n",
    "#     print(t)\n",
    "    for dv in dvs:\n",
    "        k = jj[(jj.round_index<=3) & (jj.guess_index==t) & (jj.was_valid==1)]\n",
    "#         print(dv)\n",
    "        res = sm.OLS(k[dv], sm.add_constant(k[columns]), M=sm.robust.norms.HuberT()).fit(\n",
    "                cov_type='cluster', \n",
    "                cov_kwds={'groups': k.prolific_pid}\n",
    "                )\n",
    "        x.append(res)\n",
    "    gr.append(t)\n",
    "    y1.append(x[t].params[1])\n",
    "    y2.append(x[t].bse[1]*1.96)\n",
    "    z1.append(x[t].params[3])\n",
    "    z2.append(x[t].bse[3]*1.96)\n",
    "    npart.append(k.prolific_pid.nunique())\n",
    "#     print(x[t].params[1])\n",
    "#     print(x[t].pvalues[1])\n",
    "#     print(x[t].params[3])\n",
    "#     print(x[t].pvalues[3])\n",
    "stargazer = Stargazer(x)\n",
    "stargazer.title(\"2\")\n",
    "stargazer.custom_columns([\"1st Guess\",\n",
    "                          \"2nd Guess\",\n",
    "                          \"3rd Guess\",\n",
    "                          \"4th Guess\",\n",
    "                          \"5th Guess\",\n",
    "                          \"6th Guess\"\n",
    "                         ], [1,1,1,1,1,1])\n",
    "stargazer.covariate_order(['const','t_anger','t_empathy','anger_empathy',\n",
    "#                            \"round_index\", \"wordle_1\",\"wordle_2\",\"wordle_11\",\"wordle_101\"\n",
    "                          ])\n",
    "stargazer.rename_covariates({'const': 'Constant',\n",
    "                             \"t_anger\":\"Anger\",\n",
    "                             \"t_empathy\":\"Empathy\",\n",
    "                             \"anger_empathy\": \"Anger * Empathy\"})\n",
    "stargazer.significant_digits(2)\n",
    "stargazer.significant_digits(4)\n",
    "stargazer.show_degrees_of_freedom(False)\n",
    "stargazer.significance_levels([0.05, 0.01, 0.001])\n",
    "stargazer.show_model_numbers(False)\n",
    "stargazer.add_line('Number of Participants', npart)\n",
    "plt.plot(range(1,7), y1, color=palette2, linewidth=4)\n",
    "plt.errorbar(range(1,7), y1, yerr=y2, ls='none', color=palette2, alpha=.8, label=\"Anger\", elinewidth=2)\n",
    "plt.plot(range(1,7), z1, color=palette1, linewidth=4)\n",
    "plt.errorbar(range(1,7), z1, yerr=z2, ls='none', color=palette1, alpha=.8, label=\"Anger*Empathy\", elinewidth=2)\n",
    "\n",
    "plt.hlines(xmin=.9, xmax=6.1,y=0, ls=\"dotted\")\n",
    "\n",
    "plt.xlabel(\"Guess Index\")\n",
    "plt.ylabel(\"Mean Marginal Bits Remaining\")\n",
    "# plt.title(\"Entropy\")\n",
    "plt.xlim(.9,6.1)\n",
    "plt.legend(loc=\"lower right\")\n",
    "plt.savefig(\"entropy12.png\", dpi=300)\n",
    "HTML(stargazer.render_html())\n",
    "\n"
   ]
  },
  {
   "cell_type": "markdown",
   "metadata": {},
   "source": [
    "## Participant Level Self-Report Affect"
   ]
  },
  {
   "cell_type": "code",
   "execution_count": 14,
   "metadata": {},
   "outputs": [
    {
     "name": "stderr",
     "output_type": "stream",
     "text": [
      "/Users/heart/anaconda3/lib/python3.8/site-packages/statsmodels/tsa/tsatools.py:130: FutureWarning: In a future version of pandas all arguments of concat except for the argument 'objs' will be keyword-only.\n",
      "  x = pd.concat(x[::order], 1)\n",
      "/Users/heart/anaconda3/lib/python3.8/site-packages/statsmodels/tsa/tsatools.py:130: FutureWarning: In a future version of pandas all arguments of concat except for the argument 'objs' will be keyword-only.\n",
      "  x = pd.concat(x[::order], 1)\n"
     ]
    },
    {
     "data": {
      "text/html": [
       "Prolific<br><table style=\"text-align:center\"><tr><td colspan=\"3\" style=\"border-bottom: 1px solid black\"></td></tr><tr><td style=\"text-align:left\"></td><tr><td></td><td colspan=\"1\">Arousal</td><td colspan=\"1\">Valence</td></tr><tr><td colspan=\"3\" style=\"border-bottom: 1px solid black\"></td></tr><tr><td style=\"text-align:left\">Constant</td><td>61.05<sup>***</sup></td><td>64.54<sup>***</sup></td></tr><tr><td style=\"text-align:left\"></td><td>(1.58)</td><td>(1.75)</td></tr><tr><td style=\"text-align:left\">Anger</td><td>-5.10<sup>*</sup></td><td>-4.60<sup></sup></td></tr><tr><td style=\"text-align:left\"></td><td>(2.35)</td><td>(2.48)</td></tr><tr><td style=\"text-align:left\">Empathy</td><td>-1.13<sup></sup></td><td>1.46<sup></sup></td></tr><tr><td style=\"text-align:left\"></td><td>(2.26)</td><td>(2.36)</td></tr><tr><td style=\"text-align:left\">Anger * Empathy</td><td>4.48<sup></sup></td><td>1.64<sup></sup></td></tr><tr><td style=\"text-align:left\"></td><td>(3.27)</td><td>(3.34)</td></tr><tr><td style=\"text-align: left\">Number of Participants</td><td>1006</td><td>1006</td></tr><td colspan=\"3\" style=\"border-bottom: 1px solid black\"></td></tr><tr><td style=\"text-align: left\">Observations</td><td>1,006</td><td>1,006</td></tr><tr><td style=\"text-align: left\">R<sup>2</sup></td><td>0.01</td><td>0.01</td></tr><tr><td style=\"text-align: left\">Adjusted R<sup>2</sup></td><td>0.00</td><td>0.00</td></tr><tr><td style=\"text-align: left\">Residual Std. Error</td><td>25.99</td><td>26.65</td></tr><tr><td style=\"text-align: left\">F Statistic</td><td>1.68<sup></sup></td><td>2.35<sup></sup></td></tr><tr><td colspan=\"3\" style=\"border-bottom: 1px solid black\"></td></tr><tr><td style=\"text-align: left\">Note:</td>\n",
       " <td colspan=\"2\" style=\"text-align: right\">\n",
       "  <sup>*</sup>p&lt;0.05;\n",
       "  <sup>**</sup>p&lt;0.01;\n",
       "  <sup>***</sup>p&lt;0.001\n",
       " </td></tr></table>"
      ],
      "text/plain": [
       "<IPython.core.display.HTML object>"
      ]
     },
     "execution_count": 14,
     "metadata": {},
     "output_type": "execute_result"
    }
   ],
   "source": [
    "j = participant\n",
    "columns = [\"t_anger\",\"t_empathy\",\"anger_empathy\"]\n",
    "dvs = [\"end_arousal\",\"end_valence\"]\n",
    "x = []\n",
    "for dv in dvs:\n",
    "    res = sm.OLS(j[dv], sm.add_constant(j[columns]), M=sm.robust.norms.HuberT()).fit(\n",
    "        cov_type='cluster', \n",
    "        cov_kwds={'groups': j.prolific_pid}\n",
    "        )\n",
    "    x.append(res)\n",
    "stargazer = Stargazer(x)\n",
    "stargazer.title(\"Prolific\")\n",
    "stargazer.custom_columns(['Arousal', 'Valence'\n",
    "#                           \"Arousal\",\"Valence\",\"Bonus Started\"\n",
    "                         ], [1,1,\n",
    "                            # 1,1,1\n",
    "                            ])\n",
    "stargazer.covariate_order(['const','t_anger','t_empathy','anger_empathy'])\n",
    "stargazer.rename_covariates({'const': 'Constant',\n",
    "                             \"t_anger\":\"Anger\",\n",
    "                             \"t_empathy\":\"Empathy\",\n",
    "                             \"anger_empathy\": \"Anger * Empathy\"})\n",
    "stargazer.significant_digits(2)\n",
    "stargazer.show_degrees_of_freedom(False)\n",
    "stargazer.significance_levels([0.05, 0.01, 0.001])\n",
    "stargazer.show_model_numbers(False)\n",
    "stargazer.add_line('Number of Participants', 2*[j.prolific_pid.nunique()])\n",
    "HTML(stargazer.render_html())"
   ]
  },
  {
   "cell_type": "code",
   "execution_count": 15,
   "metadata": {},
   "outputs": [],
   "source": [
    "# x[1].summary()"
   ]
  },
  {
   "cell_type": "markdown",
   "metadata": {},
   "source": [
    "## Extra Bonus Rounds"
   ]
  },
  {
   "cell_type": "code",
   "execution_count": 16,
   "metadata": {},
   "outputs": [
    {
     "name": "stderr",
     "output_type": "stream",
     "text": [
      "/Users/heart/anaconda3/lib/python3.8/site-packages/statsmodels/tsa/tsatools.py:130: FutureWarning: In a future version of pandas all arguments of concat except for the argument 'objs' will be keyword-only.\n",
      "  x = pd.concat(x[::order], 1)\n"
     ]
    },
    {
     "data": {
      "text/html": [
       "Prolific<br><table style=\"text-align:center\"><tr><td colspan=\"2\" style=\"border-bottom: 1px solid black\"></td></tr><tr><td style=\"text-align:left\"></td><td colspan=\"1\"><em>Dependent variable:did_start_bonus_rounds</em></td></tr><tr><td style=\"text-align:left\"></td><tr><td></td><td colspan=\"1\">Started Bonus Rounds</td></tr><tr><td colspan=\"2\" style=\"border-bottom: 1px solid black\"></td></tr><tr><td style=\"text-align:left\">Constant</td><td>0.22<sup>***</sup></td></tr><tr><td style=\"text-align:left\"></td><td>(0.03)</td></tr><tr><td style=\"text-align:left\">Anger</td><td>-0.01<sup></sup></td></tr><tr><td style=\"text-align:left\"></td><td>(0.04)</td></tr><tr><td style=\"text-align:left\">Empathy</td><td>0.03<sup></sup></td></tr><tr><td style=\"text-align:left\"></td><td>(0.04)</td></tr><tr><td style=\"text-align:left\">Anger * Empathy</td><td>-0.05<sup></sup></td></tr><tr><td style=\"text-align:left\"></td><td>(0.05)</td></tr><tr><td style=\"text-align: left\">Number of Participants</td><td>1006</td></tr><td colspan=\"2\" style=\"border-bottom: 1px solid black\"></td></tr><tr><td style=\"text-align: left\">Observations</td><td>1,006</td></tr><tr><td style=\"text-align: left\">R<sup>2</sup></td><td>0.00</td></tr><tr><td style=\"text-align: left\">Adjusted R<sup>2</sup></td><td>-0.00</td></tr><tr><td style=\"text-align: left\">Residual Std. Error</td><td>0.41</td></tr><tr><td style=\"text-align: left\">F Statistic</td><td>0.88<sup></sup></td></tr><tr><td colspan=\"2\" style=\"border-bottom: 1px solid black\"></td></tr><tr><td style=\"text-align: left\">Note:</td>\n",
       " <td colspan=\"1\" style=\"text-align: right\">\n",
       "  <sup>*</sup>p&lt;0.05;\n",
       "  <sup>**</sup>p&lt;0.01;\n",
       "  <sup>***</sup>p&lt;0.001\n",
       " </td></tr></table>"
      ],
      "text/plain": [
       "<IPython.core.display.HTML object>"
      ]
     },
     "execution_count": 16,
     "metadata": {},
     "output_type": "execute_result"
    }
   ],
   "source": [
    "j = participant\n",
    "columns = [\"t_anger\",\"t_empathy\",\"anger_empathy\"]\n",
    "dvs = [\"did_start_bonus_rounds\"]\n",
    "x = []\n",
    "for dv in dvs:\n",
    "    res = sm.OLS(j[dv], sm.add_constant(j[columns]), M=sm.robust.norms.HuberT()).fit(\n",
    "        cov_type='cluster', \n",
    "        cov_kwds={'groups': j.prolific_pid}\n",
    "        )\n",
    "    x.append(res)\n",
    "stargazer = Stargazer(x)\n",
    "stargazer.title(\"Prolific\")\n",
    "stargazer.custom_columns([\"Started Bonus Rounds\",\n",
    "#                           \"Arousal\",\"Valence\",\"Bonus Started\"\n",
    "                         ], [1,\n",
    "                            # 1,1,1\n",
    "                            ])\n",
    "stargazer.covariate_order(['const','t_anger','t_empathy','anger_empathy'])\n",
    "stargazer.rename_covariates({'const': 'Constant',\n",
    "                             \"t_anger\":\"Anger\",\n",
    "                             \"t_empathy\":\"Empathy\",\n",
    "                             \"anger_empathy\": \"Anger * Empathy\"})\n",
    "stargazer.significant_digits(2)\n",
    "stargazer.show_degrees_of_freedom(False)\n",
    "stargazer.significance_levels([0.05, 0.01, 0.001])\n",
    "stargazer.show_model_numbers(False)\n",
    "stargazer.add_line('Number of Participants', 1*[j.prolific_pid.nunique()])\n",
    "HTML(stargazer.render_html())"
   ]
  },
  {
   "cell_type": "markdown",
   "metadata": {},
   "source": [
    "## Additional Outcomes"
   ]
  },
  {
   "cell_type": "code",
   "execution_count": 17,
   "metadata": {},
   "outputs": [
    {
     "name": "stderr",
     "output_type": "stream",
     "text": [
      "/Users/heart/anaconda3/lib/python3.8/site-packages/statsmodels/tsa/tsatools.py:130: FutureWarning: In a future version of pandas all arguments of concat except for the argument 'objs' will be keyword-only.\n",
      "  x = pd.concat(x[::order], 1)\n",
      "/Users/heart/anaconda3/lib/python3.8/site-packages/statsmodels/tsa/tsatools.py:130: FutureWarning: In a future version of pandas all arguments of concat except for the argument 'objs' will be keyword-only.\n",
      "  x = pd.concat(x[::order], 1)\n",
      "/Users/heart/anaconda3/lib/python3.8/site-packages/statsmodels/tsa/tsatools.py:130: FutureWarning: In a future version of pandas all arguments of concat except for the argument 'objs' will be keyword-only.\n",
      "  x = pd.concat(x[::order], 1)\n",
      "/Users/heart/anaconda3/lib/python3.8/site-packages/statsmodels/tsa/tsatools.py:130: FutureWarning: In a future version of pandas all arguments of concat except for the argument 'objs' will be keyword-only.\n",
      "  x = pd.concat(x[::order], 1)\n",
      "/Users/heart/anaconda3/lib/python3.8/site-packages/statsmodels/tsa/tsatools.py:130: FutureWarning: In a future version of pandas all arguments of concat except for the argument 'objs' will be keyword-only.\n",
      "  x = pd.concat(x[::order], 1)\n"
     ]
    },
    {
     "name": "stdout",
     "output_type": "stream",
     "text": [
      "frequency\n",
      "guess_rt\n",
      "positive\n",
      "neutral\n",
      "negative\n",
      "was_valid\n"
     ]
    },
    {
     "name": "stderr",
     "output_type": "stream",
     "text": [
      "/Users/heart/anaconda3/lib/python3.8/site-packages/statsmodels/tsa/tsatools.py:130: FutureWarning: In a future version of pandas all arguments of concat except for the argument 'objs' will be keyword-only.\n",
      "  x = pd.concat(x[::order], 1)\n"
     ]
    },
    {
     "data": {
      "text/html": [
       "Prolific<br><table style=\"text-align:center\"><tr><td colspan=\"7\" style=\"border-bottom: 1px solid black\"></td></tr><tr><td style=\"text-align:left\"></td><tr><td></td><td colspan=\"1\">Frequency</td><td colspan=\"1\">Response Time</td><td colspan=\"1\">Positive</td><td colspan=\"1\">Neurtral</td><td colspan=\"1\">Negative</td><td colspan=\"1\">Valid</td></tr><tr><td colspan=\"7\" style=\"border-bottom: 1px solid black\"></td></tr><tr><td style=\"text-align:left\">Contstant</td><td>0.5509<sup>***</sup></td><td>0.5737<sup>***</sup></td><td>0.0725<sup>***</sup></td><td>0.8559<sup>***</sup></td><td>0.0717<sup>***</sup></td><td>0.8365<sup>***</sup></td></tr><tr><td style=\"text-align:left\"></td><td>(0.0330)</td><td>(0.0248)</td><td>(0.0043)</td><td>(0.0055)</td><td>(0.0043)</td><td>(0.0134)</td></tr><tr><td style=\"text-align:left\">Anger</td><td>-0.0108<sup></sup></td><td>-0.0316<sup></sup></td><td>-0.0054<sup></sup></td><td>0.0056<sup></sup></td><td>-0.0002<sup></sup></td><td>-0.0078<sup></sup></td></tr><tr><td style=\"text-align:left\"></td><td>(0.0439)</td><td>(0.0325)</td><td>(0.0060)</td><td>(0.0079)</td><td>(0.0063)</td><td>(0.0186)</td></tr><tr><td style=\"text-align:left\">Empathy</td><td>0.0043<sup></sup></td><td>-0.0109<sup></sup></td><td>-0.0047<sup></sup></td><td>0.0086<sup></sup></td><td>-0.0039<sup></sup></td><td>-0.0019<sup></sup></td></tr><tr><td style=\"text-align:left\"></td><td>(0.0439)</td><td>(0.0344)</td><td>(0.0063)</td><td>(0.0083)</td><td>(0.0060)</td><td>(0.0175)</td></tr><tr><td style=\"text-align:left\">Anger * Empathy</td><td>-0.0091<sup></sup></td><td>0.0188<sup></sup></td><td>0.0054<sup></sup></td><td>-0.0067<sup></sup></td><td>0.0013<sup></sup></td><td>-0.0406<sup></sup></td></tr><tr><td style=\"text-align:left\"></td><td>(0.0602)</td><td>(0.0481)</td><td>(0.0086)</td><td>(0.0117)</td><td>(0.0089)</td><td>(0.0292)</td></tr><tr><td style=\"text-align: left\">Number of Participants</td><td>1006</td><td>1006</td><td>1006</td><td>1006</td><td>1006</td><td>1006</td></tr><td colspan=\"7\" style=\"border-bottom: 1px solid black\"></td></tr><tr><td style=\"text-align: left\">Observations</td><td>19,451</td><td>22,675</td><td>19,451</td><td>19,451</td><td>19,451</td><td>23,681</td></tr><tr><td style=\"text-align: left\">R<sup>2</sup></td><td>0.0000</td><td>0.0002</td><td>0.0001</td><td>0.0001</td><td>0.0000</td><td>0.0029</td></tr><tr><td style=\"text-align: left\">Adjusted R<sup>2</sup></td><td>-0.0001</td><td>0.0000</td><td>-0.0001</td><td>-0.0001</td><td>-0.0001</td><td>0.0027</td></tr><tr><td style=\"text-align: left\">Residual Std. Error</td><td>1.5470</td><td>0.9878</td><td>0.2531</td><td>0.3458</td><td>0.2552</td><td>0.3825</td></tr><tr><td style=\"text-align: left\">F Statistic</td><td>0.0976<sup></sup></td><td>0.3596<sup></sup></td><td>0.3359<sup></sup></td><td>0.4467<sup></sup></td><td>0.1961<sup></sup></td><td>1.7628<sup></sup></td></tr><tr><td colspan=\"7\" style=\"border-bottom: 1px solid black\"></td></tr><tr><td style=\"text-align: left\">Note:</td>\n",
       " <td colspan=\"6\" style=\"text-align: right\">\n",
       "  <sup>*</sup>p&lt;0.05;\n",
       "  <sup>**</sup>p&lt;0.01;\n",
       "  <sup>***</sup>p&lt;0.001\n",
       " </td></tr></table>"
      ],
      "text/plain": [
       "<IPython.core.display.HTML object>"
      ]
     },
     "execution_count": 17,
     "metadata": {},
     "output_type": "execute_result"
    }
   ],
   "source": [
    "\n",
    "j = gdf2\n",
    "columns = [\"t_anger\",\"t_empathy\",\"anger_empathy\"]\n",
    "dvs = [\"frequency\",\"guess_rt\",\"positive\",\"neutral\",\"negative\",\"was_valid\"]\n",
    "x = []\n",
    "gi = 1\n",
    "for dv in dvs:\n",
    "    print(dv)\n",
    "    if dv==\"guess_rt\":\n",
    "        t = j[(j[\"guess_rt\"].notnull()) & (j[\"round_index\"]<=3)]\n",
    "        res = sm.OLS(t[dv], sm.add_constant(t[columns]), M=sm.robust.norms.HuberT()).fit(\n",
    "            cov_type='cluster', \n",
    "            cov_kwds={'groups': t.prolific_pid}\n",
    "            )\n",
    "    elif dv==\"was_valid\":\n",
    "        i = j[(j[\"round_index\"]<=3)]\n",
    "        res = sm.OLS(i[dv], sm.add_constant(i[columns]), M=sm.robust.norms.HuberT()).fit(\n",
    "            cov_type='cluster', \n",
    "            cov_kwds={'groups': i.prolific_pid}\n",
    "            )\n",
    "    else:\n",
    "        k = j[(j.was_valid==1) & (j[\"round_index\"]<=3)]\n",
    "        res = sm.OLS(k[dv], sm.add_constant(k[columns]), M=sm.robust.norms.HuberT()).fit(\n",
    "            cov_type='cluster', \n",
    "            cov_kwds={'groups': k.prolific_pid}\n",
    "            )\n",
    "    x.append(res)\n",
    "stargazer = Stargazer(x)\n",
    "stargazer.title(\"Prolific\")\n",
    "stargazer.custom_columns([\"Frequency\",\"Response Time\",\"Positive\",\"Neurtral\",\"Negative\",\"Valid\",], [1,1,1,1,1,1])\n",
    "stargazer.covariate_order(['const','t_anger','t_empathy','anger_empathy'])\n",
    "stargazer.rename_covariates({'const': 'Contstant',\n",
    "                             \"t_anger\":\"Anger\",\n",
    "                             \"t_empathy\":\"Empathy\",\n",
    "                             \"anger_empathy\": \"Anger * Empathy\"})\n",
    "stargazer.significant_digits(2)\n",
    "stargazer.significant_digits(4)\n",
    "stargazer.show_degrees_of_freedom(False)\n",
    "stargazer.significance_levels([0.05, 0.01, 0.001])\n",
    "stargazer.show_model_numbers(False)\n",
    "stargazer.add_line('Number of Participants', 6*[j.prolific_pid.nunique()])\n",
    "HTML(stargazer.render_html())"
   ]
  },
  {
   "cell_type": "code",
   "execution_count": 18,
   "metadata": {},
   "outputs": [
    {
     "name": "stdout",
     "output_type": "stream",
     "text": [
      "12972.0\n",
      "2315.0\n",
      "6074\n",
      "3175\n",
      "1609\n",
      "1045\n",
      "727\n"
     ]
    }
   ],
   "source": [
    "print(wordle_word_stats.guess.sum())\n",
    "print(wordle_word_stats.solution_w.sum())\n",
    "print(gdf2[(gdf2.round_index<=3)].word.nunique())\n",
    "print(gdf2[(gdf2.was_valid==1) & (gdf2.round_index<=3)].word.nunique())\n",
    "print(gdf2[(gdf2.was_valid==1) & (gdf2.solution_w==1) & (gdf2.round_index<=3)].word.nunique())\n",
    "print(gdf2[(gdf2.was_valid==1) & (gdf2.guess_index==0) & (gdf2.round_index<=3)].word.nunique())\n",
    "print(gdf2[(gdf2.was_valid==1) & (gdf2.solution_w==1) & (gdf2.guess_index==0) & (gdf2.round_index<=3)].word.nunique())"
   ]
  },
  {
   "cell_type": "code",
   "execution_count": 19,
   "metadata": {},
   "outputs": [
    {
     "name": "stdout",
     "output_type": "stream",
     "text": [
      "0.23956262425447317\n",
      "0.1749502982107356\n"
     ]
    }
   ],
   "source": [
    "print(gdf2[(gdf2.round_index<=3)].groupby(\"prolific_pid\").was_valid.min().mean())\n",
    "print((gdf2.groupby(\"prolific_pid\").round_index.max()>=4).mean())"
   ]
  },
  {
   "cell_type": "code",
   "execution_count": null,
   "metadata": {},
   "outputs": [],
   "source": []
  },
  {
   "cell_type": "code",
   "execution_count": null,
   "metadata": {},
   "outputs": [],
   "source": []
  }
 ],
 "metadata": {
  "kernelspec": {
   "display_name": "Python 3",
   "language": "python",
   "name": "python3"
  },
  "language_info": {
   "codemirror_mode": {
    "name": "ipython",
    "version": 3
   },
   "file_extension": ".py",
   "mimetype": "text/x-python",
   "name": "python",
   "nbconvert_exporter": "python",
   "pygments_lexer": "ipython3",
   "version": "3.8.3"
  }
 },
 "nbformat": 4,
 "nbformat_minor": 4
}
